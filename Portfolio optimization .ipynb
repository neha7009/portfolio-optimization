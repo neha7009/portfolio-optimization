{
 "cells": [
  {
   "cell_type": "code",
   "execution_count": 4,
   "metadata": {},
   "outputs": [],
   "source": [
    "import numpy as np\n",
    "import pandas as pd\n",
    "import matplotlib.pyplot as plt\n",
    "import pandas_datareader.data as web\n",
    "from datetime import datetime\n",
    "from pandas.plotting import scatter_matrix\n",
    "\n",
    "start = datetime(2015,1,1)\n",
    "end = datetime(2020,1,1)\n",
    "\n",
    "artl = web.DataReader('BHARTIARTL.NS','yahoo',start,end)\n",
    "titan = web.DataReader('TITAN.NS','yahoo',start,end)\n",
    "asnpt = web.DataReader('ASIANPAINT.NS','yahoo',start,end)\n",
    "pdlt = web.DataReader('PIDILITIND.NS','yahoo',start,end)\n",
    "\n",
    "stocks = pd.concat([artl['Adj Close'], titan['Adj Close'], asnpt['Adj Close'], pdlt['Adj Close']],axis=1)\n",
    "stocks.columns = ['artl','titan','asnpt','pdlt']\n",
    "lret = np.log(stocks/stocks.shift(1))\n",
    "lret.dropna(inplace=True)\n",
    "\n",
    "iterations = 5000\n",
    "\n",
    "ret_arr = np.zeros(iterations)\n",
    "vol_arr = np.zeros(iterations)\n",
    "sr_arr = np.zeros(iterations)\n",
    "wt_arr = np.zeros((iterations,len(stocks.columns)))\n",
    "\n",
    "for i in range(iterations):\n",
    "    w = np.random.random(len(stocks.columns))\n",
    "    w = w/np.sum(w)\n",
    "    wt_arr[i,:] = w\n",
    "    ret_arr[i] = np.sum(lret.mean()*252*w)\n",
    "    vol_arr[i] = np.sqrt(np.dot(w.T,np.dot(lret.cov()*252,w)))\n",
    "    sr_arr[i] = ret_arr[i]/vol_arr[i]\n",
    "\n",
    "res = sr_arr.max()\n",
    "\n",
    "plt.figure(figsize=(12,8))\n",
    "plt.scatter(vol_arr,ret_arr,c=sr_arr,cmap='plasma')\n",
    "plt.colorbar(label='sharpe ratio')\n",
    "plt.xlabel(\"Volatility\")\n",
    "plt.ylabel(\"Expected Returns\")\n",
    "plt.title(\"The maximum sharpe can be observed as \"+str(res))\n",
    "plt.show()"
   ]
  },
  {
   "cell_type": "code",
   "execution_count": null,
   "metadata": {},
   "outputs": [],
   "source": []
  },
  {
   "cell_type": "code",
   "execution_count": null,
   "metadata": {},
   "outputs": [],
   "source": []
  }
 ],
 "metadata": {
  "kernelspec": {
   "display_name": "Python 3",
   "language": "python",
   "name": "python3"
  },
  "language_info": {
   "codemirror_mode": {
    "name": "ipython",
    "version": 3
   },
   "file_extension": ".py",
   "mimetype": "text/x-python",
   "name": "python",
   "nbconvert_exporter": "python",
   "pygments_lexer": "ipython3",
   "version": "3.7.6"
  }
 },
 "nbformat": 4,
 "nbformat_minor": 4
}
